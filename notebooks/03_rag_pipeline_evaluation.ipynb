{
  "cells": [
    {
      "cell_type": "markdown",
      "metadata": {},
      "source": [
        "#### Task 3: RAG Core Logic and Evaluation\n",
        "\n",
        "This notebook demonstrates the RAG pipeline and evaluation framework.\n",
        "\n",
        "## Features:\n",
        "- RAG Pipeline Implementation\n",
        "- Evaluation Framework\n",
        "- Performance Analysis\n",
        "- Interactive Testing"
      ]
    },
    {
      "cell_type": "code",
      "execution_count": 18,
      "metadata": {},
      "outputs": [
        {
          "name": "stdout",
          "output_type": "stream",
          "text": [
            "✅ Basic libraries imported successfully!\n",
            "📁 Current directory: d:\\Coding\\10Academy\\Intelligent-Complaint-Analysis-for-Financial-Services-Week6\\notebooks\n",
            "🐍 Python version: 3.13.7 (tags/v3.13.7:bcee1c3, Aug 14 2025, 14:15:11) [MSC v.1944 64 bit (AMD64)]\n"
          ]
        }
      ],
      "source": [
        "# Import libraries\n",
        "import sys\n",
        "import os\n",
        "import warnings\n",
        "warnings.filterwarnings('ignore')\n",
        "\n",
        "# Add src to path\n",
        "sys.path.append(\"../src\")\n",
        "\n",
        "print(\"✅ Basic libraries imported successfully!\")\n",
        "print(f\"📁 Current directory: {os.getcwd()}\")\n",
        "print(f\"🐍 Python version: {sys.version}\")"
      ]
    },
    {
      "cell_type": "markdown",
      "metadata": {},
      "source": [
        "##### Check System Setup\n",
        "\n",
        "Let's verify that all required components are available."
      ]
    },
    {
      "cell_type": "code",
      "execution_count": 15,
      "metadata": {},
      "outputs": [
        {
          "name": "stdout",
          "output_type": "stream",
          "text": [
            "✅ Source directory found: ../src\n",
            "📁 Files in src/: ['chat_interface.py', 'eda_preprocessing.py', 'embedding_indexer.py', 'main.py', 'rag_evaluator.py', 'rag_pipeline.py', 'ui_app.py', 'vector_store_utils.py', '__init__.py', '__pycache__']\n"
          ]
        }
      ],
      "source": [
        "# Check if src directory exists\n",
        "src_path = \"../src\"\n",
        "if os.path.exists(src_path):\n",
        "    print(f\"✅ Source directory found: {src_path}\")\n",
        "    src_files = os.listdir(src_path)\n",
        "    print(f\"📁 Files in src/: {src_files}\")\n",
        "else:\n",
        "    print(f\"❌ Source directory not found: {src_path}\")\n",
        "    print(\"Please ensure you're running this notebook from the correct location.\")"
      ]
    },
    {
      "cell_type": "markdown",
      "metadata": {},
      "source": [
        "##### Import RAG Components (with Error Handling)\n",
        "\n",
        "Now let's try to import the RAG components safely."
      ]
    },
    {
      "cell_type": "code",
      "execution_count": 16,
      "metadata": {},
      "outputs": [
        {
          "name": "stdout",
          "output_type": "stream",
          "text": [
            "❌ Import Error for RAG Pipeline: No module named 'src'\n",
            "💡 This might be because:\n",
            "   1. The src/ directory is not in the Python path\n",
            "   2. The rag_pipeline.py file doesn't exist\n",
            "   3. There are missing dependencies\n",
            "❌ Import Error for RAG Evaluator: attempted relative import with no known parent package\n"
          ]
        }
      ],
      "source": [
        "# Try to import RAG components with proper error handling\n",
        "try:\n",
        "    from rag_pipeline import create_simple_pipeline\n",
        "    print(\"✅ RAG Pipeline imported successfully!\")\n",
        "except ImportError as e:\n",
        "    print(f\"❌ Import Error for RAG Pipeline: {e}\")\n",
        "    print(\"💡 This might be because:\")\n",
        "    print(\"   1. The src/ directory is not in the Python path\")\n",
        "    print(\"   2. The rag_pipeline.py file doesn't exist\")\n",
        "    print(\"   3. There are missing dependencies\")\n",
        "except Exception as e:\n",
        "    print(f\"❌ Unexpected error: {e}\")\n",
        "\n",
        "try:\n",
        "    from rag_evaluator import create_evaluator\n",
        "    print(\"✅ RAG Evaluator imported successfully!\")\n",
        "except ImportError as e:\n",
        "    print(f\"❌ Import Error for RAG Evaluator: {e}\")\n",
        "except Exception as e:\n",
        "    print(f\"❌ Unexpected error: {e}\")"
      ]
    },
    {
      "cell_type": "markdown",
      "metadata": {},
      "source": [
        "##### Test RAG Pipeline (if imports successful)\n",
        "\n",
        "If the imports worked, let's test the RAG system."
      ]
    },
    {
      "cell_type": "code",
      "execution_count": 17,
      "metadata": {},
      "outputs": [
        {
          "name": "stdout",
          "output_type": "stream",
          "text": [
            "❌ Vector store not found: ../vector_store\n",
            "💡 Please run Task 2 notebook first to create the vector store.\n",
            "   Command: jupyter notebook notebooks/02_text_chunking_embedding_vectorstore.ipynb\n"
          ]
        }
      ],
      "source": [
        "# Test RAG pipeline if components are available\n",
        "try:\n",
        "    # Check if vector store exists\n",
        "    vector_store_path = \"../vector_store\"\n",
        "    if os.path.exists(vector_store_path):\n",
        "        print(f\"✅ Vector store found: {vector_store_path}\")\n",
        "        \n",
        "        # Try to create pipeline\n",
        "        if 'create_simple_pipeline' in globals():\n",
        "            pipeline = create_simple_pipeline(vector_store_path)\n",
        "            print(\"✅ RAG Pipeline created successfully!\")\n",
        "            print(\"🚀 Ready to test the system!\")\n",
        "        else:\n",
        "            print(\"⚠️ RAG Pipeline function not available\")\n",
        "            print(\"Please check the import statements above.\")\n",
        "    else:\n",
        "        print(f\"❌ Vector store not found: {vector_store_path}\")\n",
        "        print(\"💡 Please run Task 2 notebook first to create the vector store.\")\n",
        "        print(\"   Command: jupyter notebook notebooks/02_text_chunking_embedding_vectorstore.ipynb\")\n",
        "        \n",
        "except Exception as e:\n",
        "    print(f\"❌ Error testing RAG pipeline: {e}\")\n",
        "    print(\"💡 Please ensure all dependencies are installed:\")\n",
        "    print(\"   pip install -r requirements.txt\")"
      ]
    },
    {
      "cell_type": "markdown",
      "metadata": {},
      "source": [
        "##### Troubleshooting Guide\n",
        "\n",
        "If you encounter issues:\n",
        "\n",
        "1. **Install Dependencies**: `pip install -r requirements.txt`\n",
        "2. **Run Task 2 First**: Create the vector store\n",
        "3. **Check File Structure**: Ensure src/ directory exists\n",
        "4. **Verify Python Path**: Check if src/ is in sys.path\n",
        "5. **Test Individual Components**: Run `python test_rag_system.py`"
      ]
    },
    {
      "cell_type": "markdown",
      "metadata": {},
      "source": []
    }
  ],
  "metadata": {
    "kernelspec": {
      "display_name": "Python 3",
      "language": "python",
      "name": "python3"
    },
    "language_info": {
      "codemirror_mode": {
        "name": "ipython",
        "version": 3
      },
      "file_extension": ".py",
      "mimetype": "text/x-python",
      "name": "python",
      "nbconvert_exporter": "python",
      "pygments_lexer": "ipython3",
      "version": "3.8.0"
    }
  },
  "nbformat": 4,
  "nbformat_minor": 4
}
