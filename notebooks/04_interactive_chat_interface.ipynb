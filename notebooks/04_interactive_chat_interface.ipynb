{
  "cells": [
    {
      "cell_type": "markdown",
      "metadata": {},
      "source": [
        "# Task 4: Interactive Chat Interface\n",
        "\n",
        "This notebook demonstrates the interactive chat interface for the RAG system.\n",
        "\n",
        "## Features:\n",
        "- Streamlit Web Application\n",
        "- Real-time Chat Interface\n",
        "- Source Transparency\n",
        "- Configuration Options\n",
        "- Chat History Management\n",
        "- Responsive Design"
      ]
    },
    {
      "cell_type": "code",
      "execution_count": 4,
      "metadata": {},
      "outputs": [
        {
          "name": "stdout",
          "output_type": "stream",
          "text": [
            "✅ Basic libraries imported successfully!\n",
            "📁 Current directory: d:\\Coding\\10Academy\\Intelligent-Complaint-Analysis-for-Financial-Services-Week6\\notebooks\n",
            "🐍 Python version: 3.13.7 (tags/v3.13.7:bcee1c3, Aug 14 2025, 14:15:11) [MSC v.1944 64 bit (AMD64)]\n"
          ]
        }
      ],
      "source": [
        "# Import libraries\n",
        "import sys\n",
        "import os\n",
        "import warnings\n",
        "warnings.filterwarnings('ignore')\n",
        "\n",
        "# Add src to path\n",
        "sys.path.append(\"../src\")\n",
        "\n",
        "print(\"✅ Basic libraries imported successfully!\")\n",
        "print(f\"📁 Current directory: {os.getcwd()}\")\n",
        "print(f\"🐍 Python version: {sys.version}\")"
      ]
    },
    {
      "cell_type": "markdown",
      "metadata": {},
      "source": [
        "## Check System Setup\n",
        "\n",
        "Let's verify that all required components are available."
      ]
    },
    {
      "cell_type": "code",
      "execution_count": 5,
      "metadata": {},
      "outputs": [
        {
          "name": "stdout",
          "output_type": "stream",
          "text": [
            "✅ Source directory found: ../src\n",
            "📁 Files in src/: ['chat_interface.py', 'eda_preprocessing.py', 'embedding_indexer.py', 'main.py', 'rag_evaluator.py', 'rag_pipeline.py', 'ui_app.py', 'vector_store_utils.py', '__init__.py', '__pycache__']\n"
          ]
        }
      ],
      "source": [
        "# Check if src directory exists\n",
        "src_path = \"../src\"\n",
        "if os.path.exists(src_path):\n",
        "    print(f\"✅ Source directory found: {src_path}\")\n",
        "    src_files = os.listdir(src_path)\n",
        "    print(f\"📁 Files in src/: {src_files}\")\n",
        "else:\n",
        "    print(f\"❌ Source directory not found: {src_path}\")\n",
        "    print(\"Please ensure you're running this notebook from the correct location.\")"
      ]
    },
    {
      "cell_type": "markdown",
      "metadata": {},
      "source": [
        "## Check UI Components\n",
        "\n",
        "Let's verify that the UI components are available."
      ]
    },
    {
      "cell_type": "code",
      "execution_count": 6,
      "metadata": {},
      "outputs": [
        {
          "name": "stdout",
          "output_type": "stream",
          "text": [
            "❌ Import Error for UI components: No module named 'src'\n",
            "💡 This might be because:\n",
            "   1. The src/ui_app.py file doesn't exist\n",
            "   2. There are missing dependencies\n",
            "   3. The file structure is incorrect\n"
          ]
        }
      ],
      "source": [
        "# Check if UI components are available\n",
        "try:\n",
        "    from ui_app import ChatInterface\n",
        "    print(\"✅ UI components imported successfully!\")\n",
        "    print(\"🚀 Ready to launch interactive interface.\")\n",
        "except ImportError as e:\n",
        "    print(f\"❌ Import Error for UI components: {e}\")\n",
        "    print(\"💡 This might be because:\")\n",
        "    print(\"   1. The src/ui_app.py file doesn't exist\")\n",
        "    print(\"   2. There are missing dependencies\")\n",
        "    print(\"   3. The file structure is incorrect\")\n",
        "except Exception as e:\n",
        "    print(f\"❌ Unexpected error: {e}\")"
      ]
    },
    {
      "cell_type": "markdown",
      "metadata": {},
      "source": [
        "## Check Application Files\n",
        "\n",
        "Let's verify that the application launcher and UI files exist."
      ]
    },
    {
      "cell_type": "code",
      "execution_count": 7,
      "metadata": {},
      "outputs": [
        {
          "name": "stdout",
          "output_type": "stream",
          "text": [
            "❌ app.py not found\n",
            "💡 Please check if the file exists in the current directory\n",
            "❌ UI app not found: src/ui_app.py\n",
            "💡 Please check the file structure\n"
          ]
        }
      ],
      "source": [
        "# Test if app.py exists\n",
        "if os.path.exists(\"app.py\"):\n",
        "    print(\"✅ app.py launcher found!\")\n",
        "    print(\"🚀 You can launch the app with: python app.py\")\n",
        "else:\n",
        "    print(\"❌ app.py not found\")\n",
        "    print(\"💡 Please check if the file exists in the current directory\")\n",
        "\n",
        "# Test if UI app exists\n",
        "ui_app_path = \"src/ui_app.py\"\n",
        "if os.path.exists(ui_app_path):\n",
        "    print(f\"✅ UI app found: {ui_app_path}\")\n",
        "    print(\"🚀 You can launch with: streamlit run src/ui_app.py\")\n",
        "else:\n",
        "    print(f\"❌ UI app not found: {ui_app_path}\")\n",
        "    print(\"💡 Please check the file structure\")"
      ]
    },
    {
      "cell_type": "markdown",
      "metadata": {},
      "source": [
        "## Test Streamlit Installation\n",
        "\n",
        "Let's check if Streamlit is properly installed."
      ]
    },
    {
      "cell_type": "code",
      "execution_count": 8,
      "metadata": {},
      "outputs": [
        {
          "name": "stdout",
          "output_type": "stream",
          "text": [
            "✅ Streamlit 1.48.1 is installed\n",
            "🚀 Ready to run Streamlit applications!\n"
          ]
        }
      ],
      "source": [
        "# Check Streamlit installation\n",
        "try:\n",
        "    import streamlit as st\n",
        "    print(f\"✅ Streamlit {st.__version__} is installed\")\n",
        "    print(\"🚀 Ready to run Streamlit applications!\")\n",
        "except ImportError:\n",
        "    print(\"❌ Streamlit is not installed\")\n",
        "    print(\"💡 Install with: pip install streamlit>=1.28.0\")\n",
        "except Exception as e:\n",
        "    print(f\"❌ Error checking Streamlit: {e}\")"
      ]
    },
    {
      "cell_type": "markdown",
      "metadata": {},
      "source": [
        "## Launch Interactive Interface\n",
        "\n",
        "To launch the interactive chat interface, run:\n",
        "```bash\n",
        "python app.py\n",
        "```\n",
        "\n",
        "Or use Streamlit directly:\n",
        "```bash\n",
        "streamlit run src/ui_app.py\n",
        "```\n",
        "\n",
        "The application will open in your default web browser at http://localhost:8501"
      ]
    },
    {
      "cell_type": "code",
      "execution_count": 9,
      "metadata": {},
      "outputs": [
        {
          "name": "stdout",
          "output_type": "stream",
          "text": [
            "🔍 Final Status Check:\n",
            "==================================================\n",
            "✅ Source Directory: Ready\n",
            "❌ UI App File: Not ready\n",
            "❌ App Launcher: Not ready\n",
            "✅ Streamlit: Ready\n",
            "==================================================\n",
            "⚠️ Some components are missing. Please check the setup.\n"
          ]
        }
      ],
      "source": [
        "# Final status check\n",
        "print(\"🔍 Final Status Check:\")\n",
        "print(\"=\" * 50)\n",
        "\n",
        "checks = {\n",
        "    \"Source Directory\": os.path.exists(\"../src\"),\n",
        "    \"UI App File\": os.path.exists(\"src/ui_app.py\"),\n",
        "    \"App Launcher\": os.path.exists(\"app.py\"),\n",
        "    \"Streamlit\": \"streamlit\" in sys.modules or __import__('streamlit', fromlist=[''])\n",
        "}\n",
        "\n",
        "for check_name, status in checks.items():\n",
        "    if status:\n",
        "        print(f\"✅ {check_name}: Ready\")\n",
        "    else:\n",
        "        print(f\"❌ {check_name}: Not ready\")\n",
        "\n",
        "print(\"=\" * 50)\n",
        "if all(checks.values()):\n",
        "    print(\"🎉 All systems ready! You can launch the interactive interface.\")\n",
        "else:\n",
        "    print(\"⚠️ Some components are missing. Please check the setup.\")"
      ]
    },
    {
      "cell_type": "markdown",
      "metadata": {},
      "source": [
        "## Troubleshooting Guide\n",
        "\n",
        "If you encounter issues:\n",
        "\n",
        "1. **Install Dependencies**: `pip install -r requirements.txt`\n",
        "2. **Check File Structure**: Ensure src/ directory exists\n",
        "3. **Verify Streamlit**: `pip install streamlit>=1.28.0`\n",
        "4. **Test Individual Components**: Run `python test_rag_system.py`\n",
        "5. **Launch App**: Use `python app.py` or `streamlit run src/ui_app.py`"
      ]
    },
    {
      "cell_type": "markdown",
      "metadata": {},
      "source": []
    }
  ],
  "metadata": {
    "kernelspec": {
      "display_name": "Python 3",
      "language": "python",
      "name": "python3"
    },
    "language_info": {
      "codemirror_mode": {
        "name": "ipython",
        "version": 3
      },
      "file_extension": ".py",
      "mimetype": "text/x-python",
      "name": "python",
      "nbconvert_exporter": "python",
      "pygments_lexer": "ipython3",
      "version": "3.8.0"
    }
  },
  "nbformat": 4,
  "nbformat_minor": 4
}
