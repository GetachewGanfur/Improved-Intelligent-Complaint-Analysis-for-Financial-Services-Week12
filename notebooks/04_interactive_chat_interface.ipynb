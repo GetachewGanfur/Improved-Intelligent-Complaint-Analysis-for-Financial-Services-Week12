{
  "cells": [
    {
      "cell_type": "markdown",
      "metadata": {},
      "source": [
        "##### Task 4: Interactive Chat Interface\n",
        "\n",
        "This minimal notebook was restored to resolve JSON/merge conflicts. It imports the chat components so the file can open. Run the earlier notebooks first to build the vector store.\n"
      ]
    },
    {
      "cell_type": "code",
      "execution_count": 1,
      "metadata": {},
      "outputs": [
        {
          "name": "stdout",
          "output_type": "stream",
          "text": [
            "📁 Working directory: d:\\Coding\\10Academy\\Improved-Intelligent-Complaint-Analysis-for-Financial-Services-Week12\\notebooks\n",
            "📁 Parent directory: d:\\Coding\\10Academy\\Improved-Intelligent-Complaint-Analysis-for-Financial-Services-Week12\n",
            "✅ Vector store exists: True\n",
            "✅ Source directory exists: True\n"
          ]
        }
      ],
      "source": [
        "import sys, os\n",
        "from pathlib import Path\n",
        "\n",
        "# Ensure src is importable\n",
        "parent_dir = Path().absolute().parent\n",
        "sys.path.append(str(parent_dir / 'src'))\n",
        "\n",
        "print(f'📁 Working directory: {os.getcwd()}')\n",
        "print(f'📁 Parent directory: {parent_dir}')\n",
        "\n",
        "# Quick checks\n",
        "vector_store_path = parent_dir / 'vector_store'\n",
        "src_path = parent_dir / 'src'\n",
        "print(f'✅ Vector store exists: {vector_store_path.exists()}')\n",
        "print(f'✅ Source directory exists: {src_path.exists()}')\n"
      ]
    },
    {
      "cell_type": "code",
      "execution_count": 2,
      "metadata": {},
      "outputs": [
        {
          "name": "stdout",
          "output_type": "stream",
          "text": [
            "✅ RAG components imported successfully\n"
          ]
        }
      ],
      "source": [
        "# Try importing RAG components\n",
        "try:\n",
        "    from rag_pipeline import create_simple_pipeline\n",
        "    from chat_interface import create_chat_app\n",
        "    print('✅ RAG components imported successfully')\n",
        "except Exception as e:\n",
        "    print(f'❌ Import error: {e}')\n"
      ]
    },
    {
      "cell_type": "code",
      "execution_count": 3,
      "metadata": {},
      "outputs": [
        {
          "name": "stdout",
          "output_type": "stream",
          "text": [
            "Notebook is healthy and ready.\n"
          ]
        }
      ],
      "source": [
        "# Optional: initialize a chat app (commented out by default)\n",
        "# app = create_chat_app(vector_store_dir=str(vector_store_path))\n",
        "# app.launch()\n",
        "print('Notebook is healthy and ready.')\n"
      ]
    },
    {
      "cell_type": "code",
      "execution_count": null,
      "metadata": {},
      "outputs": [],
      "source": []
    }
  ],
  "metadata": {
    "kernelspec": {
      "display_name": "Python 3",
      "language": "python",
      "name": "python3"
    },
    "language_info": {
      "codemirror_mode": {
        "name": "ipython",
        "version": 3
      },
      "file_extension": ".py",
      "mimetype": "text/x-python",
      "name": "python",
      "nbconvert_exporter": "python",
      "pygments_lexer": "ipython3",
      "version": "3.12.8"
    }
  },
  "nbformat": 4,
  "nbformat_minor": 2
}
